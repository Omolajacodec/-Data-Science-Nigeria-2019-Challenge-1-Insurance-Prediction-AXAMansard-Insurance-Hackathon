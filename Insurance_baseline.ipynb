{
 "cells": [
  {
   "cell_type": "code",
   "execution_count": 1,
   "metadata": {
    "collapsed": true
   },
   "outputs": [],
   "source": [
    "import pandas as pd #for data importing and manupulation\n",
    "import numpy as np  #for data manupulation and cleaning\n",
    "import seaborn as sns # data visualization\n",
    "import matplotlib.pyplot as plt # data visualization\n",
    "%matplotlib inline "
   ]
  },
  {
   "cell_type": "code",
   "execution_count": 41,
   "metadata": {
    "collapsed": true
   },
   "outputs": [],
   "source": [
    "train = pd.read_csv('train_data.csv')\n",
    "test = pd.read_csv('test_data.csv')\n",
    "sub = pd.read_csv('sample_submission (2).csv')"
   ]
  },
  {
   "cell_type": "code",
   "execution_count": 42,
   "metadata": {
    "collapsed": true
   },
   "outputs": [],
   "source": [
    "from catboost import CatBoostClassifier"
   ]
  },
  {
   "cell_type": "code",
   "execution_count": 43,
   "metadata": {
    "collapsed": true
   },
   "outputs": [],
   "source": [
    "#Imputing missing values for both train and test\n",
    "train.fillna(0, inplace=True)\n",
    "test.fillna(0,inplace=True)"
   ]
  },
  {
   "cell_type": "code",
   "execution_count": 44,
   "metadata": {
    "collapsed": false
   },
   "outputs": [
    {
     "data": {
      "text/html": [
       "<div>\n",
       "<table border=\"1\" class=\"dataframe\">\n",
       "  <thead>\n",
       "    <tr style=\"text-align: right;\">\n",
       "      <th></th>\n",
       "      <th>Customer Id</th>\n",
       "      <th>YearOfObservation</th>\n",
       "      <th>Insured_Period</th>\n",
       "      <th>Residential</th>\n",
       "      <th>Building_Painted</th>\n",
       "      <th>Building_Fenced</th>\n",
       "      <th>Garden</th>\n",
       "      <th>Settlement</th>\n",
       "      <th>Building Dimension</th>\n",
       "      <th>Building_Type</th>\n",
       "      <th>Date_of_Occupancy</th>\n",
       "      <th>NumberOfWindows</th>\n",
       "      <th>Geo_Code</th>\n",
       "      <th>Claim</th>\n",
       "    </tr>\n",
       "  </thead>\n",
       "  <tbody>\n",
       "    <tr>\n",
       "      <th>0</th>\n",
       "      <td>H14663</td>\n",
       "      <td>2013</td>\n",
       "      <td>1.0</td>\n",
       "      <td>0</td>\n",
       "      <td>N</td>\n",
       "      <td>V</td>\n",
       "      <td>V</td>\n",
       "      <td>U</td>\n",
       "      <td>290.0</td>\n",
       "      <td>1</td>\n",
       "      <td>1960.0</td>\n",
       "      <td>.</td>\n",
       "      <td>1053</td>\n",
       "      <td>0</td>\n",
       "    </tr>\n",
       "    <tr>\n",
       "      <th>1</th>\n",
       "      <td>H2037</td>\n",
       "      <td>2015</td>\n",
       "      <td>1.0</td>\n",
       "      <td>0</td>\n",
       "      <td>V</td>\n",
       "      <td>N</td>\n",
       "      <td>O</td>\n",
       "      <td>R</td>\n",
       "      <td>490.0</td>\n",
       "      <td>1</td>\n",
       "      <td>1850.0</td>\n",
       "      <td>4</td>\n",
       "      <td>1053</td>\n",
       "      <td>0</td>\n",
       "    </tr>\n",
       "    <tr>\n",
       "      <th>2</th>\n",
       "      <td>H3802</td>\n",
       "      <td>2014</td>\n",
       "      <td>1.0</td>\n",
       "      <td>0</td>\n",
       "      <td>N</td>\n",
       "      <td>V</td>\n",
       "      <td>V</td>\n",
       "      <td>U</td>\n",
       "      <td>595.0</td>\n",
       "      <td>1</td>\n",
       "      <td>1960.0</td>\n",
       "      <td>.</td>\n",
       "      <td>1053</td>\n",
       "      <td>0</td>\n",
       "    </tr>\n",
       "    <tr>\n",
       "      <th>3</th>\n",
       "      <td>H3834</td>\n",
       "      <td>2013</td>\n",
       "      <td>1.0</td>\n",
       "      <td>0</td>\n",
       "      <td>V</td>\n",
       "      <td>V</td>\n",
       "      <td>V</td>\n",
       "      <td>U</td>\n",
       "      <td>2840.0</td>\n",
       "      <td>1</td>\n",
       "      <td>1960.0</td>\n",
       "      <td>.</td>\n",
       "      <td>1053</td>\n",
       "      <td>0</td>\n",
       "    </tr>\n",
       "    <tr>\n",
       "      <th>4</th>\n",
       "      <td>H5053</td>\n",
       "      <td>2014</td>\n",
       "      <td>1.0</td>\n",
       "      <td>0</td>\n",
       "      <td>V</td>\n",
       "      <td>N</td>\n",
       "      <td>O</td>\n",
       "      <td>R</td>\n",
       "      <td>680.0</td>\n",
       "      <td>1</td>\n",
       "      <td>1800.0</td>\n",
       "      <td>3</td>\n",
       "      <td>1053</td>\n",
       "      <td>0</td>\n",
       "    </tr>\n",
       "  </tbody>\n",
       "</table>\n",
       "</div>"
      ],
      "text/plain": [
       "  Customer Id  YearOfObservation  Insured_Period  Residential  \\\n",
       "0      H14663               2013             1.0            0   \n",
       "1       H2037               2015             1.0            0   \n",
       "2       H3802               2014             1.0            0   \n",
       "3       H3834               2013             1.0            0   \n",
       "4       H5053               2014             1.0            0   \n",
       "\n",
       "  Building_Painted Building_Fenced Garden Settlement  Building Dimension  \\\n",
       "0                N               V      V          U               290.0   \n",
       "1                V               N      O          R               490.0   \n",
       "2                N               V      V          U               595.0   \n",
       "3                V               V      V          U              2840.0   \n",
       "4                V               N      O          R               680.0   \n",
       "\n",
       "   Building_Type  Date_of_Occupancy NumberOfWindows Geo_Code  Claim  \n",
       "0              1             1960.0               .     1053      0  \n",
       "1              1             1850.0               4     1053      0  \n",
       "2              1             1960.0               .     1053      0  \n",
       "3              1             1960.0               .     1053      0  \n",
       "4              1             1800.0               3     1053      0  "
      ]
     },
     "execution_count": 44,
     "metadata": {},
     "output_type": "execute_result"
    }
   ],
   "source": [
    "train.head()"
   ]
  },
  {
   "cell_type": "code",
   "execution_count": 45,
   "metadata": {
    "collapsed": true
   },
   "outputs": [],
   "source": [
    "test_id = test['Customer Id']"
   ]
  },
  {
   "cell_type": "code",
   "execution_count": 46,
   "metadata": {
    "collapsed": true
   },
   "outputs": [],
   "source": [
    "train = train.drop('Customer Id', axis=1)\n",
    "test = test.drop('Customer Id', axis=1)"
   ]
  },
  {
   "cell_type": "code",
   "execution_count": null,
   "metadata": {
    "collapsed": true
   },
   "outputs": [],
   "source": []
  },
  {
   "cell_type": "code",
   "execution_count": 47,
   "metadata": {
    "collapsed": false
   },
   "outputs": [],
   "source": [
    "X = train.drop('Claim', axis=1)\n",
    "y = train.Claim"
   ]
  },
  {
   "cell_type": "code",
   "execution_count": null,
   "metadata": {
    "collapsed": false
   },
   "outputs": [],
   "source": []
  },
  {
   "cell_type": "code",
   "execution_count": 48,
   "metadata": {
    "collapsed": true
   },
   "outputs": [],
   "source": [
    "from sklearn.model_selection import train_test_split"
   ]
  },
  {
   "cell_type": "code",
   "execution_count": 49,
   "metadata": {
    "collapsed": true
   },
   "outputs": [],
   "source": [
    "# Split the data into 30% validation and 70% training\n",
    "X_train, X_val, y_train, y_val = train_test_split(X, y, test_size=0.3, random_state=101)"
   ]
  },
  {
   "cell_type": "code",
   "execution_count": 50,
   "metadata": {
    "collapsed": true
   },
   "outputs": [],
   "source": [
    "categorical_features_indices = np.where(X.dtypes != np.float)[0]"
   ]
  },
  {
   "cell_type": "code",
   "execution_count": 51,
   "metadata": {
    "collapsed": false
   },
   "outputs": [],
   "source": [
    "model=CatBoostClassifier(iterations=800, #leaf_estimation_iterations=10,#800\n",
    "                              learning_rate=0.1,\n",
    "                              depth=4,#loss_function='MultiClass',#,scale_pos_weight=200,\n",
    "                             #l2_leaf_reg=5,\n",
    "                             bootstrap_type='Bernoulli',\n",
    "                              subsample=0.9,\n",
    "                              eval_metric='AUC',\n",
    "                              metric_period=20,\n",
    "                                   #class_weight s=0,\n",
    "                              #od_type='Iter',\n",
    "                              #od_wait=45,\n",
    "                              #random_seed=10,\n",
    "                              allow_writing_files=False)"
   ]
  },
  {
   "cell_type": "code",
   "execution_count": 52,
   "metadata": {
    "collapsed": false
   },
   "outputs": [
    {
     "name": "stdout",
     "output_type": "stream",
     "text": [
      "0:\ttest: 0.6886216\tbest: 0.6886216 (0)\ttotal: 441ms\tremaining: 5m 52s\n",
      "20:\ttest: 0.7206297\tbest: 0.7206297 (20)\ttotal: 2.47s\tremaining: 1m 31s\n",
      "40:\ttest: 0.7229247\tbest: 0.7229247 (40)\ttotal: 4.07s\tremaining: 1m 15s\n",
      "60:\ttest: 0.7231703\tbest: 0.7231703 (60)\ttotal: 5.56s\tremaining: 1m 7s\n",
      "80:\ttest: 0.7235242\tbest: 0.7235242 (80)\ttotal: 6.97s\tremaining: 1m 1s\n",
      "100:\ttest: 0.7241624\tbest: 0.7241624 (100)\ttotal: 8.5s\tremaining: 58.9s\n",
      "120:\ttest: 0.7229487\tbest: 0.7241624 (100)\ttotal: 10.7s\tremaining: 59.8s\n",
      "140:\ttest: 0.7237857\tbest: 0.7241624 (100)\ttotal: 13.2s\tremaining: 1m 1s\n",
      "160:\ttest: 0.7245981\tbest: 0.7245981 (160)\ttotal: 14.8s\tremaining: 58.6s\n",
      "180:\ttest: 0.7264586\tbest: 0.7264586 (180)\ttotal: 17s\tremaining: 58.3s\n",
      "200:\ttest: 0.7254653\tbest: 0.7264586 (180)\ttotal: 18.7s\tremaining: 55.7s\n",
      "220:\ttest: 0.7243212\tbest: 0.7264586 (180)\ttotal: 20.4s\tremaining: 53.5s\n",
      "240:\ttest: 0.7244295\tbest: 0.7264586 (180)\ttotal: 22.2s\tremaining: 51.5s\n",
      "260:\ttest: 0.7238793\tbest: 0.7264586 (180)\ttotal: 23.7s\tremaining: 49s\n",
      "280:\ttest: 0.7237808\tbest: 0.7264586 (180)\ttotal: 25.2s\tremaining: 46.6s\n",
      "300:\ttest: 0.7235543\tbest: 0.7264586 (180)\ttotal: 26.7s\tremaining: 44.2s\n",
      "320:\ttest: 0.7244947\tbest: 0.7264586 (180)\ttotal: 28.1s\tremaining: 42s\n",
      "340:\ttest: 0.7240867\tbest: 0.7264586 (180)\ttotal: 29.8s\tremaining: 40.2s\n",
      "360:\ttest: 0.7239014\tbest: 0.7264586 (180)\ttotal: 31.5s\tremaining: 38.3s\n",
      "380:\ttest: 0.7236220\tbest: 0.7264586 (180)\ttotal: 33s\tremaining: 36.3s\n",
      "400:\ttest: 0.7228552\tbest: 0.7264586 (180)\ttotal: 34.5s\tremaining: 34.3s\n",
      "420:\ttest: 0.7225573\tbest: 0.7264586 (180)\ttotal: 35.9s\tremaining: 32.3s\n",
      "440:\ttest: 0.7220169\tbest: 0.7264586 (180)\ttotal: 37.5s\tremaining: 30.5s\n",
      "460:\ttest: 0.7219874\tbest: 0.7264586 (180)\ttotal: 39s\tremaining: 28.7s\n",
      "480:\ttest: 0.7215049\tbest: 0.7264586 (180)\ttotal: 40.5s\tremaining: 26.8s\n",
      "500:\ttest: 0.7207442\tbest: 0.7264586 (180)\ttotal: 42.1s\tremaining: 25.1s\n",
      "520:\ttest: 0.7209608\tbest: 0.7264586 (180)\ttotal: 43.6s\tremaining: 23.3s\n",
      "540:\ttest: 0.7205669\tbest: 0.7264586 (180)\ttotal: 45.2s\tremaining: 21.6s\n",
      "560:\ttest: 0.7193742\tbest: 0.7264586 (180)\ttotal: 46.7s\tremaining: 19.9s\n",
      "580:\ttest: 0.7192893\tbest: 0.7264586 (180)\ttotal: 48.2s\tremaining: 18.2s\n",
      "600:\ttest: 0.7190382\tbest: 0.7264586 (180)\ttotal: 49.6s\tremaining: 16.4s\n",
      "620:\ttest: 0.7188019\tbest: 0.7264586 (180)\ttotal: 51.2s\tremaining: 14.8s\n",
      "640:\ttest: 0.7176584\tbest: 0.7264586 (180)\ttotal: 52.7s\tremaining: 13.1s\n",
      "660:\ttest: 0.7178553\tbest: 0.7264586 (180)\ttotal: 54.2s\tremaining: 11.4s\n",
      "680:\ttest: 0.7176805\tbest: 0.7264586 (180)\ttotal: 55.7s\tremaining: 9.73s\n",
      "700:\ttest: 0.7177814\tbest: 0.7264586 (180)\ttotal: 57.1s\tremaining: 8.06s\n",
      "720:\ttest: 0.7170786\tbest: 0.7264586 (180)\ttotal: 58.6s\tremaining: 6.42s\n",
      "740:\ttest: 0.7154144\tbest: 0.7264586 (180)\ttotal: 1m\tremaining: 4.78s\n",
      "760:\ttest: 0.7149529\tbest: 0.7264586 (180)\ttotal: 1m 1s\tremaining: 3.15s\n",
      "780:\ttest: 0.7148655\tbest: 0.7264586 (180)\ttotal: 1m 3s\tremaining: 1.53s\n",
      "799:\ttest: 0.7143608\tbest: 0.7264586 (180)\ttotal: 1m 4s\tremaining: 0us\n",
      "\n",
      "bestTest = 0.7264586052\n",
      "bestIteration = 180\n",
      "\n",
      "Shrink model to first 181 iterations.\n"
     ]
    },
    {
     "data": {
      "text/plain": [
       "<catboost.core.CatBoostClassifier at 0x21e7881c860>"
      ]
     },
     "execution_count": 52,
     "metadata": {},
     "output_type": "execute_result"
    }
   ],
   "source": [
    "model.fit(X_train, y_train, cat_features=categorical_features_indices, eval_set=(X_val, y_val))"
   ]
  },
  {
   "cell_type": "code",
   "execution_count": 53,
   "metadata": {
    "collapsed": true
   },
   "outputs": [],
   "source": [
    "y_pred=model.predict_proba(test)[:, 1]"
   ]
  },
  {
   "cell_type": "code",
   "execution_count": 54,
   "metadata": {
    "collapsed": true
   },
   "outputs": [],
   "source": [
    "from sklearn.metrics import roc_auc_score"
   ]
  },
  {
   "cell_type": "code",
   "execution_count": 55,
   "metadata": {
    "collapsed": false
   },
   "outputs": [
    {
     "name": "stdout",
     "output_type": "stream",
     "text": [
      "0.726458605155\n"
     ]
    }
   ],
   "source": [
    "print(roc_auc_score(y_val, model.predict_proba(X_val)[:, 1]))"
   ]
  },
  {
   "cell_type": "code",
   "execution_count": 37,
   "metadata": {
    "collapsed": false
   },
   "outputs": [
    {
     "data": {
      "image/png": "[encoded data removed]",
      "text/plain": [
       "<matplotlib.figure.Figure at 0x21e78faa080>"
      ]
     },
     "metadata": {},
     "output_type": "display_data"
    }
   ],
   "source": [
    "fea_imp = pd.DataFrame({'imp':model.feature_importances_, 'col': X.columns})\n",
    "fea_imp = fea_imp.sort_values(['imp', 'col'], ascending=[True, False]).iloc[-30:]\n",
    "_ = fea_imp.plot(kind='barh', x='col', y='imp', figsize=(20, 10))\n",
    "plt.savefig('catboost_feature_importance.png')    "
   ]
  },
  {
   "cell_type": "code",
   "execution_count": 56,
   "metadata": {
    "collapsed": true
   },
   "outputs": [],
   "source": [
    "d = {\"Customer Id\": test_id, 'Claim': y_pred}\n",
    "test_predictions = pd.DataFrame(data=d)\n",
    "test_predictions = test_predictions[[\"Customer Id\", 'Claim']]"
   ]
  },
  {
   "cell_type": "code",
   "execution_count": 57,
   "metadata": {
    "collapsed": false
   },
   "outputs": [
    {
     "data": {
      "text/html": [
       "<div>\n",
       "<table border=\"1\" class=\"dataframe\">\n",
       "  <thead>\n",
       "    <tr style=\"text-align: right;\">\n",
       "      <th></th>\n",
       "      <th>Customer Id</th>\n",
       "      <th>Claim</th>\n",
       "    </tr>\n",
       "  </thead>\n",
       "  <tbody>\n",
       "    <tr>\n",
       "      <th>0</th>\n",
       "      <td>H11920</td>\n",
       "      <td>0.101533</td>\n",
       "    </tr>\n",
       "    <tr>\n",
       "      <th>1</th>\n",
       "      <td>H11921</td>\n",
       "      <td>0.094347</td>\n",
       "    </tr>\n",
       "    <tr>\n",
       "      <th>2</th>\n",
       "      <td>H9805</td>\n",
       "      <td>0.069704</td>\n",
       "    </tr>\n",
       "    <tr>\n",
       "      <th>3</th>\n",
       "      <td>H7493</td>\n",
       "      <td>0.180605</td>\n",
       "    </tr>\n",
       "    <tr>\n",
       "      <th>4</th>\n",
       "      <td>H7494</td>\n",
       "      <td>0.169136</td>\n",
       "    </tr>\n",
       "  </tbody>\n",
       "</table>\n",
       "</div>"
      ],
      "text/plain": [
       "  Customer Id     Claim\n",
       "0      H11920  0.101533\n",
       "1      H11921  0.094347\n",
       "2       H9805  0.069704\n",
       "3       H7493  0.180605\n",
       "4       H7494  0.169136"
      ]
     },
     "execution_count": 57,
     "metadata": {},
     "output_type": "execute_result"
    }
   ],
   "source": [
    "test_predictions.head()"
   ]
  },
  {
   "cell_type": "code",
   "execution_count": 58,
   "metadata": {
    "collapsed": true
   },
   "outputs": [],
   "source": [
    "test_predictions.to_csv('i2.csv', index=False)"
   ]
  },
  {
   "cell_type": "code",
   "execution_count": null,
   "metadata": {
    "collapsed": true
   },
   "outputs": [],
   "source": []
  }
 ],
 "metadata": {
  "kernelspec": {
   "display_name": "Python 3",
   "language": "python",
   "name": "python3"
  },
  "language_info": {
   "codemirror_mode": {
    "name": "ipython",
    "version": 3
   },
   "file_extension": ".py",
   "mimetype": "text/x-python",
   "name": "python",
   "nbconvert_exporter": "python",
   "pygments_lexer": "ipython3",
   "version": "3.6.0"
  }
 },
 "nbformat": 4,
 "nbformat_minor": 2
}
